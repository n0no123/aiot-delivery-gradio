{
 "cells": [
  {
   "cell_type": "code",
   "execution_count": null,
   "metadata": {},
   "outputs": [],
   "source": [
    "! git clone --branch notebook https://github.com/n0no123/hand-sign-detection/"
   ]
  },
  {
   "cell_type": "code",
   "execution_count": null,
   "metadata": {},
   "outputs": [],
   "source": [
    "pip install -r '/content/hand-sign-detection/requirements.txt'"
   ]
  },
  {
   "cell_type": "code",
   "execution_count": null,
   "metadata": {},
   "outputs": [],
   "source": [
    "import cv2\n",
    "import gradio as gr\n",
    "import math\n",
    "import numpy as np\n",
    "from cvzone.ClassificationModule import Classifier\n",
    "from cvzone.HandTrackingModule import HandDetector"
   ]
  },
  {
   "cell_type": "code",
   "execution_count": null,
   "metadata": {},
   "outputs": [],
   "source": [
    "bgSize = 96\n",
    "classifier = Classifier('/content/hand-sign-detection/keras_model.h5', '/content/hand-sign-detection/labels.txt')\n",
    "detector = HandDetector(maxHands=1)\n",
    "labels = ['Look', 'Drink', 'Eat', 'Ok']\n",
    "offset = 20"
   ]
  },
  {
   "cell_type": "code",
   "execution_count": null,
   "metadata": {},
   "outputs": [],
   "source": [
    "def segment(image):\n",
    "    hands, frame = detector.findHands(image)\n",
    "    try:\n",
    "        if hands:\n",
    "            hand = hands[0]\n",
    "            x, y, w, h = hand['bbox']\n",
    "            croppedHand = np.ones((bgSize, bgSize, 3), np.uint8) * 12\n",
    "            imgCrop = frame[y - offset:y + h +\n",
    "                            offset, x - offset:x + w + offset]\n",
    "            aspectRatio = h / w\n",
    "            if aspectRatio > 1:\n",
    "                constant = bgSize / h\n",
    "                wComputed = math.floor(constant * w)\n",
    "                bgResize = cv2.resize(imgCrop, (wComputed, bgSize))\n",
    "                bgResizeShape = bgResize.shape\n",
    "                wGap = math.floor((bgSize-wComputed)/2)\n",
    "                croppedHand[:bgResizeShape[0],\n",
    "                            wGap:wGap + wComputed] = bgResize\n",
    "            else:\n",
    "                constant = bgSize / w\n",
    "                hComputed = math.floor(constant * h)\n",
    "                bgResize = cv2.resize(imgCrop, (bgSize, hComputed))\n",
    "                bgResizeShape = bgResize.shape\n",
    "                hGap = math.floor((bgSize - hComputed) / 2)\n",
    "                croppedHand[hGap: hComputed + hGap, :] = bgResize\n",
    "            _, index = classifier.getPrediction(croppedHand, draw=False)\n",
    "            return labels[index]\n",
    "    except Exception as e:\n",
    "        print(e)\n",
    "    return 'No sign detected'"
   ]
  },
  {
   "cell_type": "code",
   "execution_count": null,
   "metadata": {},
   "outputs": [],
   "source": [
    "gr.interface.Interface(fn=segment, live=True, inputs=gr.Image(source='webcam', streaming=True), outputs='text').launch()"
   ]
  }
 ],
 "metadata": {
  "kernelspec": {
   "display_name": "Python 3.10.6 64-bit",
   "language": "python",
   "name": "python3"
  },
  "language_info": {
   "codemirror_mode": {
    "name": "ipython",
    "version": 3
   },
   "file_extension": ".py",
   "mimetype": "text/x-python",
   "name": "python",
   "nbconvert_exporter": "python",
   "pygments_lexer": "ipython3",
   "version": "3.10.6"
  },
  "orig_nbformat": 4,
  "vscode": {
   "interpreter": {
    "hash": "31f2aee4e71d21fbe5cf8b01ff0e069b9275f58929596ceb00d14d90e3e16cd6"
   }
  }
 },
 "nbformat": 4,
 "nbformat_minor": 2
}
